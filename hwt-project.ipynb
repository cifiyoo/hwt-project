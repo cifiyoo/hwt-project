{
 "cells": [
  {
   "cell_type": "code",
   "execution_count": 1,
   "id": "9b99d3cd",
   "metadata": {},
   "outputs": [],
   "source": [
    "# Import dependency libraries.\n",
    "import pandas as pd"
   ]
  },
  {
   "cell_type": "code",
   "execution_count": 2,
   "id": "ab496ed8",
   "metadata": {},
   "outputs": [],
   "source": [
    "# Basic user information, data from users.dat\n",
    "unames = ['user_id', 'gender', 'age', 'occupation', 'zip']\n",
    "user_df = pd.read_csv('./Data/ml-1m/users.dat',\n",
    "                      sep='::',\n",
    "                      header=None,\n",
    "                      names=unames,\n",
    "                      engine='python')\n",
    "\n",
    "# Movie information, data from movies.dat\n",
    "mnames = ['movie_id', 'title', 'genres']\n",
    "movies_df = pd.read_csv('./Data/ml-1m/movies.dat',\n",
    "                        sep='::',\n",
    "                        header=None,\n",
    "                        names=mnames,\n",
    "                        engine='python',\n",
    "                        encoding='ISO-8859-1')\n",
    "\n",
    "# Rating information, data from rating.dat\n",
    "rnames = ['user_id', 'movie_id', 'imdbId', 'timestamp']\n",
    "ratings_df = pd.read_csv('./Data/ml-1m/ratings.dat',\n",
    "                         sep='::',\n",
    "                         header=None,\n",
    "                         engine='python',\n",
    "                         names=rnames)"
   ]
  },
  {
   "cell_type": "code",
   "execution_count": 3,
   "id": "1f6c2a44",
   "metadata": {},
   "outputs": [
    {
     "name": "stdout",
     "output_type": "stream",
     "text": [
      "user information dataframe\n"
     ]
    },
    {
     "data": {
      "text/html": [
       "<div>\n",
       "<style scoped>\n",
       "    .dataframe tbody tr th:only-of-type {\n",
       "        vertical-align: middle;\n",
       "    }\n",
       "\n",
       "    .dataframe tbody tr th {\n",
       "        vertical-align: top;\n",
       "    }\n",
       "\n",
       "    .dataframe thead th {\n",
       "        text-align: right;\n",
       "    }\n",
       "</style>\n",
       "<table border=\"1\" class=\"dataframe\">\n",
       "  <thead>\n",
       "    <tr style=\"text-align: right;\">\n",
       "      <th></th>\n",
       "      <th>user_id</th>\n",
       "      <th>gender</th>\n",
       "      <th>age</th>\n",
       "      <th>occupation</th>\n",
       "      <th>zip</th>\n",
       "    </tr>\n",
       "  </thead>\n",
       "  <tbody>\n",
       "    <tr>\n",
       "      <th>0</th>\n",
       "      <td>1</td>\n",
       "      <td>F</td>\n",
       "      <td>1</td>\n",
       "      <td>10</td>\n",
       "      <td>48067</td>\n",
       "    </tr>\n",
       "    <tr>\n",
       "      <th>1</th>\n",
       "      <td>2</td>\n",
       "      <td>M</td>\n",
       "      <td>56</td>\n",
       "      <td>16</td>\n",
       "      <td>70072</td>\n",
       "    </tr>\n",
       "    <tr>\n",
       "      <th>2</th>\n",
       "      <td>3</td>\n",
       "      <td>M</td>\n",
       "      <td>25</td>\n",
       "      <td>15</td>\n",
       "      <td>55117</td>\n",
       "    </tr>\n",
       "    <tr>\n",
       "      <th>3</th>\n",
       "      <td>4</td>\n",
       "      <td>M</td>\n",
       "      <td>45</td>\n",
       "      <td>7</td>\n",
       "      <td>02460</td>\n",
       "    </tr>\n",
       "    <tr>\n",
       "      <th>4</th>\n",
       "      <td>5</td>\n",
       "      <td>M</td>\n",
       "      <td>25</td>\n",
       "      <td>20</td>\n",
       "      <td>55455</td>\n",
       "    </tr>\n",
       "  </tbody>\n",
       "</table>\n",
       "</div>"
      ],
      "text/plain": [
       "   user_id gender  age  occupation    zip\n",
       "0        1      F    1          10  48067\n",
       "1        2      M   56          16  70072\n",
       "2        3      M   25          15  55117\n",
       "3        4      M   45           7  02460\n",
       "4        5      M   25          20  55455"
      ]
     },
     "execution_count": 3,
     "metadata": {},
     "output_type": "execute_result"
    }
   ],
   "source": [
    "print(\"user information dataframe\")\n",
    "user_df.head()"
   ]
  },
  {
   "cell_type": "code",
   "execution_count": 4,
   "id": "77c17510",
   "metadata": {},
   "outputs": [
    {
     "name": "stdout",
     "output_type": "stream",
     "text": [
      "<class 'pandas.core.frame.DataFrame'>\n",
      "RangeIndex: 6040 entries, 0 to 6039\n",
      "Data columns (total 5 columns):\n",
      " #   Column      Non-Null Count  Dtype \n",
      "---  ------      --------------  ----- \n",
      " 0   user_id     6040 non-null   int64 \n",
      " 1   gender      6040 non-null   object\n",
      " 2   age         6040 non-null   int64 \n",
      " 3   occupation  6040 non-null   int64 \n",
      " 4   zip         6040 non-null   object\n",
      "dtypes: int64(3), object(2)\n",
      "memory usage: 236.1+ KB\n"
     ]
    }
   ],
   "source": [
    "user_df.info()"
   ]
  },
  {
   "cell_type": "code",
   "execution_count": 5,
   "id": "105925ef",
   "metadata": {},
   "outputs": [
    {
     "name": "stdout",
     "output_type": "stream",
     "text": [
      "movie information dataframe\n"
     ]
    },
    {
     "data": {
      "text/html": [
       "<div>\n",
       "<style scoped>\n",
       "    .dataframe tbody tr th:only-of-type {\n",
       "        vertical-align: middle;\n",
       "    }\n",
       "\n",
       "    .dataframe tbody tr th {\n",
       "        vertical-align: top;\n",
       "    }\n",
       "\n",
       "    .dataframe thead th {\n",
       "        text-align: right;\n",
       "    }\n",
       "</style>\n",
       "<table border=\"1\" class=\"dataframe\">\n",
       "  <thead>\n",
       "    <tr style=\"text-align: right;\">\n",
       "      <th></th>\n",
       "      <th>movie_id</th>\n",
       "      <th>title</th>\n",
       "      <th>genres</th>\n",
       "    </tr>\n",
       "  </thead>\n",
       "  <tbody>\n",
       "    <tr>\n",
       "      <th>0</th>\n",
       "      <td>1</td>\n",
       "      <td>Toy Story (1995)</td>\n",
       "      <td>Animation|Children's|Comedy</td>\n",
       "    </tr>\n",
       "    <tr>\n",
       "      <th>1</th>\n",
       "      <td>2</td>\n",
       "      <td>Jumanji (1995)</td>\n",
       "      <td>Adventure|Children's|Fantasy</td>\n",
       "    </tr>\n",
       "    <tr>\n",
       "      <th>2</th>\n",
       "      <td>3</td>\n",
       "      <td>Grumpier Old Men (1995)</td>\n",
       "      <td>Comedy|Romance</td>\n",
       "    </tr>\n",
       "    <tr>\n",
       "      <th>3</th>\n",
       "      <td>4</td>\n",
       "      <td>Waiting to Exhale (1995)</td>\n",
       "      <td>Comedy|Drama</td>\n",
       "    </tr>\n",
       "    <tr>\n",
       "      <th>4</th>\n",
       "      <td>5</td>\n",
       "      <td>Father of the Bride Part II (1995)</td>\n",
       "      <td>Comedy</td>\n",
       "    </tr>\n",
       "  </tbody>\n",
       "</table>\n",
       "</div>"
      ],
      "text/plain": [
       "   movie_id                               title                        genres\n",
       "0         1                    Toy Story (1995)   Animation|Children's|Comedy\n",
       "1         2                      Jumanji (1995)  Adventure|Children's|Fantasy\n",
       "2         3             Grumpier Old Men (1995)                Comedy|Romance\n",
       "3         4            Waiting to Exhale (1995)                  Comedy|Drama\n",
       "4         5  Father of the Bride Part II (1995)                        Comedy"
      ]
     },
     "execution_count": 5,
     "metadata": {},
     "output_type": "execute_result"
    }
   ],
   "source": [
    "print(\"movie information dataframe\")\n",
    "movies_df.head()"
   ]
  },
  {
   "cell_type": "code",
   "execution_count": 6,
   "id": "b0ffc361",
   "metadata": {},
   "outputs": [
    {
     "name": "stdout",
     "output_type": "stream",
     "text": [
      "<class 'pandas.core.frame.DataFrame'>\n",
      "RangeIndex: 3883 entries, 0 to 3882\n",
      "Data columns (total 3 columns):\n",
      " #   Column    Non-Null Count  Dtype \n",
      "---  ------    --------------  ----- \n",
      " 0   movie_id  3883 non-null   int64 \n",
      " 1   title     3883 non-null   object\n",
      " 2   genres    3883 non-null   object\n",
      "dtypes: int64(1), object(2)\n",
      "memory usage: 91.1+ KB\n"
     ]
    }
   ],
   "source": [
    "movies_df.info()"
   ]
  },
  {
   "cell_type": "code",
   "execution_count": 7,
   "id": "be16628d",
   "metadata": {},
   "outputs": [
    {
     "name": "stdout",
     "output_type": "stream",
     "text": [
      "rating information dataframe\n"
     ]
    },
    {
     "data": {
      "text/html": [
       "<div>\n",
       "<style scoped>\n",
       "    .dataframe tbody tr th:only-of-type {\n",
       "        vertical-align: middle;\n",
       "    }\n",
       "\n",
       "    .dataframe tbody tr th {\n",
       "        vertical-align: top;\n",
       "    }\n",
       "\n",
       "    .dataframe thead th {\n",
       "        text-align: right;\n",
       "    }\n",
       "</style>\n",
       "<table border=\"1\" class=\"dataframe\">\n",
       "  <thead>\n",
       "    <tr style=\"text-align: right;\">\n",
       "      <th></th>\n",
       "      <th>user_id</th>\n",
       "      <th>movie_id</th>\n",
       "      <th>imdbId</th>\n",
       "      <th>timestamp</th>\n",
       "    </tr>\n",
       "  </thead>\n",
       "  <tbody>\n",
       "    <tr>\n",
       "      <th>0</th>\n",
       "      <td>1</td>\n",
       "      <td>1193</td>\n",
       "      <td>5</td>\n",
       "      <td>978300760</td>\n",
       "    </tr>\n",
       "    <tr>\n",
       "      <th>1</th>\n",
       "      <td>1</td>\n",
       "      <td>661</td>\n",
       "      <td>3</td>\n",
       "      <td>978302109</td>\n",
       "    </tr>\n",
       "    <tr>\n",
       "      <th>2</th>\n",
       "      <td>1</td>\n",
       "      <td>914</td>\n",
       "      <td>3</td>\n",
       "      <td>978301968</td>\n",
       "    </tr>\n",
       "    <tr>\n",
       "      <th>3</th>\n",
       "      <td>1</td>\n",
       "      <td>3408</td>\n",
       "      <td>4</td>\n",
       "      <td>978300275</td>\n",
       "    </tr>\n",
       "    <tr>\n",
       "      <th>4</th>\n",
       "      <td>1</td>\n",
       "      <td>2355</td>\n",
       "      <td>5</td>\n",
       "      <td>978824291</td>\n",
       "    </tr>\n",
       "  </tbody>\n",
       "</table>\n",
       "</div>"
      ],
      "text/plain": [
       "   user_id  movie_id  imdbId  timestamp\n",
       "0        1      1193       5  978300760\n",
       "1        1       661       3  978302109\n",
       "2        1       914       3  978301968\n",
       "3        1      3408       4  978300275\n",
       "4        1      2355       5  978824291"
      ]
     },
     "execution_count": 7,
     "metadata": {},
     "output_type": "execute_result"
    }
   ],
   "source": [
    "print(\"rating information dataframe\")\n",
    "ratings_df.head()"
   ]
  },
  {
   "cell_type": "code",
   "execution_count": 8,
   "id": "aa73a4ad",
   "metadata": {},
   "outputs": [
    {
     "name": "stdout",
     "output_type": "stream",
     "text": [
      "<class 'pandas.core.frame.DataFrame'>\n",
      "RangeIndex: 1000209 entries, 0 to 1000208\n",
      "Data columns (total 4 columns):\n",
      " #   Column     Non-Null Count    Dtype\n",
      "---  ------     --------------    -----\n",
      " 0   user_id    1000209 non-null  int64\n",
      " 1   movie_id   1000209 non-null  int64\n",
      " 2   imdbId     1000209 non-null  int64\n",
      " 3   timestamp  1000209 non-null  int64\n",
      "dtypes: int64(4)\n",
      "memory usage: 30.5 MB\n"
     ]
    }
   ],
   "source": [
    "ratings_df.info()"
   ]
  },
  {
   "cell_type": "markdown",
   "id": "26e8be3d-05cf-4b6b-862f-ac33da465ad0",
   "metadata": {},
   "source": [
    "Remove the year from the movies.dat data file title: Remove the year from the title by regular expression."
   ]
  },
  {
   "cell_type": "code",
   "execution_count": 9,
   "id": "d30cb355-793a-44e2-ae9d-4a388f582c16",
   "metadata": {},
   "outputs": [
    {
     "data": {
      "text/html": [
       "<div>\n",
       "<style scoped>\n",
       "    .dataframe tbody tr th:only-of-type {\n",
       "        vertical-align: middle;\n",
       "    }\n",
       "\n",
       "    .dataframe tbody tr th {\n",
       "        vertical-align: top;\n",
       "    }\n",
       "\n",
       "    .dataframe thead th {\n",
       "        text-align: right;\n",
       "    }\n",
       "</style>\n",
       "<table border=\"1\" class=\"dataframe\">\n",
       "  <thead>\n",
       "    <tr style=\"text-align: right;\">\n",
       "      <th></th>\n",
       "      <th>movie_id</th>\n",
       "      <th>title</th>\n",
       "      <th>genres</th>\n",
       "    </tr>\n",
       "  </thead>\n",
       "  <tbody>\n",
       "    <tr>\n",
       "      <th>0</th>\n",
       "      <td>1</td>\n",
       "      <td>Toy Story</td>\n",
       "      <td>Animation|Children's|Comedy</td>\n",
       "    </tr>\n",
       "    <tr>\n",
       "      <th>1</th>\n",
       "      <td>2</td>\n",
       "      <td>Jumanji</td>\n",
       "      <td>Adventure|Children's|Fantasy</td>\n",
       "    </tr>\n",
       "    <tr>\n",
       "      <th>2</th>\n",
       "      <td>3</td>\n",
       "      <td>Grumpier Old Men</td>\n",
       "      <td>Comedy|Romance</td>\n",
       "    </tr>\n",
       "    <tr>\n",
       "      <th>3</th>\n",
       "      <td>4</td>\n",
       "      <td>Waiting to Exhale</td>\n",
       "      <td>Comedy|Drama</td>\n",
       "    </tr>\n",
       "    <tr>\n",
       "      <th>4</th>\n",
       "      <td>5</td>\n",
       "      <td>Father of the Bride Part II</td>\n",
       "      <td>Comedy</td>\n",
       "    </tr>\n",
       "  </tbody>\n",
       "</table>\n",
       "</div>"
      ],
      "text/plain": [
       "   movie_id                         title                        genres\n",
       "0         1                    Toy Story    Animation|Children's|Comedy\n",
       "1         2                      Jumanji   Adventure|Children's|Fantasy\n",
       "2         3             Grumpier Old Men                 Comedy|Romance\n",
       "3         4            Waiting to Exhale                   Comedy|Drama\n",
       "4         5  Father of the Bride Part II                         Comedy"
      ]
     },
     "execution_count": 9,
     "metadata": {},
     "output_type": "execute_result"
    }
   ],
   "source": [
    "import re\n",
    "patter = re.compile(r'^(.*)\\((\\d+)\\)$')\n",
    "title = {val:patter.match(val).group(1) for i,val in enumerate(set(movies_df['title']))}\n",
    "movies_df['title'] = movies_df['title'].map(title)  \n",
    "movies_df.head()"
   ]
  },
  {
   "cell_type": "markdown",
   "id": "181cf092-1cfc-4c0a-9772-e17ab00dbf1c",
   "metadata": {},
   "source": [
    "Convert timestamps in the ratings.dat file to a specific time: Convert timestamps to a specific time with the pd.to_datetime function in Pandas.\n",
    "\n"
   ]
  },
  {
   "cell_type": "code",
   "execution_count": 10,
   "id": "9956edf1-4a5b-422e-959f-d4884a810cbc",
   "metadata": {},
   "outputs": [
    {
     "data": {
      "text/html": [
       "<div>\n",
       "<style scoped>\n",
       "    .dataframe tbody tr th:only-of-type {\n",
       "        vertical-align: middle;\n",
       "    }\n",
       "\n",
       "    .dataframe tbody tr th {\n",
       "        vertical-align: top;\n",
       "    }\n",
       "\n",
       "    .dataframe thead th {\n",
       "        text-align: right;\n",
       "    }\n",
       "</style>\n",
       "<table border=\"1\" class=\"dataframe\">\n",
       "  <thead>\n",
       "    <tr style=\"text-align: right;\">\n",
       "      <th></th>\n",
       "      <th>user_id</th>\n",
       "      <th>movie_id</th>\n",
       "      <th>imdbId</th>\n",
       "      <th>timestamp</th>\n",
       "    </tr>\n",
       "  </thead>\n",
       "  <tbody>\n",
       "    <tr>\n",
       "      <th>0</th>\n",
       "      <td>1</td>\n",
       "      <td>1193</td>\n",
       "      <td>5</td>\n",
       "      <td>2000-12-31 22:12:40</td>\n",
       "    </tr>\n",
       "    <tr>\n",
       "      <th>1</th>\n",
       "      <td>1</td>\n",
       "      <td>661</td>\n",
       "      <td>3</td>\n",
       "      <td>2000-12-31 22:35:09</td>\n",
       "    </tr>\n",
       "    <tr>\n",
       "      <th>2</th>\n",
       "      <td>1</td>\n",
       "      <td>914</td>\n",
       "      <td>3</td>\n",
       "      <td>2000-12-31 22:32:48</td>\n",
       "    </tr>\n",
       "    <tr>\n",
       "      <th>3</th>\n",
       "      <td>1</td>\n",
       "      <td>3408</td>\n",
       "      <td>4</td>\n",
       "      <td>2000-12-31 22:04:35</td>\n",
       "    </tr>\n",
       "    <tr>\n",
       "      <th>4</th>\n",
       "      <td>1</td>\n",
       "      <td>2355</td>\n",
       "      <td>5</td>\n",
       "      <td>2001-01-06 23:38:11</td>\n",
       "    </tr>\n",
       "  </tbody>\n",
       "</table>\n",
       "</div>"
      ],
      "text/plain": [
       "   user_id  movie_id  imdbId           timestamp\n",
       "0        1      1193       5 2000-12-31 22:12:40\n",
       "1        1       661       3 2000-12-31 22:35:09\n",
       "2        1       914       3 2000-12-31 22:32:48\n",
       "3        1      3408       4 2000-12-31 22:04:35\n",
       "4        1      2355       5 2001-01-06 23:38:11"
      ]
     },
     "execution_count": 10,
     "metadata": {},
     "output_type": "execute_result"
    }
   ],
   "source": [
    "ratings_df['timestamp'] = pd.to_datetime(ratings_df['timestamp'],unit='s')\n",
    "ratings_df.head()"
   ]
  },
  {
   "cell_type": "markdown",
   "id": "4c559287-609d-4327-9042-1895d393901d",
   "metadata": {},
   "source": [
    "Change DataFrame column name: Change the column name by pandas.DataFrame.rename function, the specific code is as follows.\n"
   ]
  },
  {
   "cell_type": "code",
   "execution_count": 11,
   "id": "fec195ae-15d2-4b52-91ac-129f6d7a37aa",
   "metadata": {},
   "outputs": [
    {
     "data": {
      "text/html": [
       "<div>\n",
       "<style scoped>\n",
       "    .dataframe tbody tr th:only-of-type {\n",
       "        vertical-align: middle;\n",
       "    }\n",
       "\n",
       "    .dataframe tbody tr th {\n",
       "        vertical-align: top;\n",
       "    }\n",
       "\n",
       "    .dataframe thead th {\n",
       "        text-align: right;\n",
       "    }\n",
       "</style>\n",
       "<table border=\"1\" class=\"dataframe\">\n",
       "  <thead>\n",
       "    <tr style=\"text-align: right;\">\n",
       "      <th></th>\n",
       "      <th>user_id</th>\n",
       "      <th>movie_id</th>\n",
       "      <th>imdbId</th>\n",
       "      <th>time</th>\n",
       "    </tr>\n",
       "  </thead>\n",
       "  <tbody>\n",
       "    <tr>\n",
       "      <th>1000204</th>\n",
       "      <td>6040</td>\n",
       "      <td>1091</td>\n",
       "      <td>1</td>\n",
       "      <td>2000-04-26 02:35:41</td>\n",
       "    </tr>\n",
       "    <tr>\n",
       "      <th>1000205</th>\n",
       "      <td>6040</td>\n",
       "      <td>1094</td>\n",
       "      <td>5</td>\n",
       "      <td>2000-04-25 23:21:27</td>\n",
       "    </tr>\n",
       "    <tr>\n",
       "      <th>1000206</th>\n",
       "      <td>6040</td>\n",
       "      <td>562</td>\n",
       "      <td>5</td>\n",
       "      <td>2000-04-25 23:19:06</td>\n",
       "    </tr>\n",
       "    <tr>\n",
       "      <th>1000207</th>\n",
       "      <td>6040</td>\n",
       "      <td>1096</td>\n",
       "      <td>4</td>\n",
       "      <td>2000-04-26 02:20:48</td>\n",
       "    </tr>\n",
       "    <tr>\n",
       "      <th>1000208</th>\n",
       "      <td>6040</td>\n",
       "      <td>1097</td>\n",
       "      <td>4</td>\n",
       "      <td>2000-04-26 02:19:29</td>\n",
       "    </tr>\n",
       "  </tbody>\n",
       "</table>\n",
       "</div>"
      ],
      "text/plain": [
       "         user_id  movie_id  imdbId                time\n",
       "1000204     6040      1091       1 2000-04-26 02:35:41\n",
       "1000205     6040      1094       5 2000-04-25 23:21:27\n",
       "1000206     6040       562       5 2000-04-25 23:19:06\n",
       "1000207     6040      1096       4 2000-04-26 02:20:48\n",
       "1000208     6040      1097       4 2000-04-26 02:19:29"
      ]
     },
     "execution_count": 11,
     "metadata": {},
     "output_type": "execute_result"
    }
   ],
   "source": [
    "ratings_df.rename(columns={'timestamp':'time'},inplace=True)\n",
    "ratings_df.tail()"
   ]
  },
  {
   "cell_type": "markdown",
   "id": "77a67eb8-ceac-46ef-a811-e76ae71d4860",
   "metadata": {},
   "source": [
    "Change the time format to 'year-month-day':\n",
    "1. Use the to_datetime function in Pandas to convert the date column from object format to datetime format.\n",
    "2. Fetch the year, month and day from strftime('%Y%m%d'), and apply this function to the ratings_df['timestamp'] column with apply lambda."
   ]
  },
  {
   "cell_type": "code",
   "execution_count": 12,
   "id": "6314feb1-a85d-4564-a549-36ceedbe283e",
   "metadata": {},
   "outputs": [
    {
     "data": {
      "text/html": [
       "<div>\n",
       "<style scoped>\n",
       "    .dataframe tbody tr th:only-of-type {\n",
       "        vertical-align: middle;\n",
       "    }\n",
       "\n",
       "    .dataframe tbody tr th {\n",
       "        vertical-align: top;\n",
       "    }\n",
       "\n",
       "    .dataframe thead th {\n",
       "        text-align: right;\n",
       "    }\n",
       "</style>\n",
       "<table border=\"1\" class=\"dataframe\">\n",
       "  <thead>\n",
       "    <tr style=\"text-align: right;\">\n",
       "      <th></th>\n",
       "      <th>time</th>\n",
       "      <th>date</th>\n",
       "    </tr>\n",
       "  </thead>\n",
       "  <tbody>\n",
       "    <tr>\n",
       "      <th>1000204</th>\n",
       "      <td>2000-04-26 02:35:41</td>\n",
       "      <td>2000-04-26 02:35:41</td>\n",
       "    </tr>\n",
       "    <tr>\n",
       "      <th>1000205</th>\n",
       "      <td>2000-04-25 23:21:27</td>\n",
       "      <td>2000-04-25 23:21:27</td>\n",
       "    </tr>\n",
       "    <tr>\n",
       "      <th>1000206</th>\n",
       "      <td>2000-04-25 23:19:06</td>\n",
       "      <td>2000-04-25 23:19:06</td>\n",
       "    </tr>\n",
       "    <tr>\n",
       "      <th>1000207</th>\n",
       "      <td>2000-04-26 02:20:48</td>\n",
       "      <td>2000-04-26 02:20:48</td>\n",
       "    </tr>\n",
       "    <tr>\n",
       "      <th>1000208</th>\n",
       "      <td>2000-04-26 02:19:29</td>\n",
       "      <td>2000-04-26 02:19:29</td>\n",
       "    </tr>\n",
       "  </tbody>\n",
       "</table>\n",
       "</div>"
      ],
      "text/plain": [
       "                       time                date\n",
       "1000204 2000-04-26 02:35:41 2000-04-26 02:35:41\n",
       "1000205 2000-04-25 23:21:27 2000-04-25 23:21:27\n",
       "1000206 2000-04-25 23:19:06 2000-04-25 23:19:06\n",
       "1000207 2000-04-26 02:20:48 2000-04-26 02:20:48\n",
       "1000208 2000-04-26 02:19:29 2000-04-26 02:19:29"
      ]
     },
     "execution_count": 12,
     "metadata": {},
     "output_type": "execute_result"
    }
   ],
   "source": [
    "import datetime\n",
    "date_df = pd.DataFrame({'time':ratings_df['time']})\n",
    "date_df['date']=pd.to_datetime(date_df['time'])\n",
    "date_df.tail()\n"
   ]
  },
  {
   "cell_type": "code",
   "execution_count": 13,
   "id": "7521f0b3-69d6-4d77-a94a-034bdbc2ba61",
   "metadata": {},
   "outputs": [
    {
     "data": {
      "text/html": [
       "<div>\n",
       "<style scoped>\n",
       "    .dataframe tbody tr th:only-of-type {\n",
       "        vertical-align: middle;\n",
       "    }\n",
       "\n",
       "    .dataframe tbody tr th {\n",
       "        vertical-align: top;\n",
       "    }\n",
       "\n",
       "    .dataframe thead th {\n",
       "        text-align: right;\n",
       "    }\n",
       "</style>\n",
       "<table border=\"1\" class=\"dataframe\">\n",
       "  <thead>\n",
       "    <tr style=\"text-align: right;\">\n",
       "      <th></th>\n",
       "      <th>user_id</th>\n",
       "      <th>movie_id</th>\n",
       "      <th>imdbId</th>\n",
       "      <th>time</th>\n",
       "    </tr>\n",
       "  </thead>\n",
       "  <tbody>\n",
       "    <tr>\n",
       "      <th>1000204</th>\n",
       "      <td>6040</td>\n",
       "      <td>1091</td>\n",
       "      <td>1</td>\n",
       "      <td>2000-04-26</td>\n",
       "    </tr>\n",
       "    <tr>\n",
       "      <th>1000205</th>\n",
       "      <td>6040</td>\n",
       "      <td>1094</td>\n",
       "      <td>5</td>\n",
       "      <td>2000-04-25</td>\n",
       "    </tr>\n",
       "    <tr>\n",
       "      <th>1000206</th>\n",
       "      <td>6040</td>\n",
       "      <td>562</td>\n",
       "      <td>5</td>\n",
       "      <td>2000-04-25</td>\n",
       "    </tr>\n",
       "    <tr>\n",
       "      <th>1000207</th>\n",
       "      <td>6040</td>\n",
       "      <td>1096</td>\n",
       "      <td>4</td>\n",
       "      <td>2000-04-26</td>\n",
       "    </tr>\n",
       "    <tr>\n",
       "      <th>1000208</th>\n",
       "      <td>6040</td>\n",
       "      <td>1097</td>\n",
       "      <td>4</td>\n",
       "      <td>2000-04-26</td>\n",
       "    </tr>\n",
       "  </tbody>\n",
       "</table>\n",
       "</div>"
      ],
      "text/plain": [
       "         user_id  movie_id  imdbId        time\n",
       "1000204     6040      1091       1  2000-04-26\n",
       "1000205     6040      1094       5  2000-04-25\n",
       "1000206     6040       562       5  2000-04-25\n",
       "1000207     6040      1096       4  2000-04-26\n",
       "1000208     6040      1097       4  2000-04-26"
      ]
     },
     "execution_count": 13,
     "metadata": {},
     "output_type": "execute_result"
    }
   ],
   "source": [
    "ratings_df['time'] = date_df['date'].apply(lambda x:x.strftime('%Y-%m-%d'))\n",
    "ratings_df.tail()"
   ]
  },
  {
   "cell_type": "markdown",
   "id": "756a3567-4cf5-4b72-898d-28270ea17624",
   "metadata": {},
   "source": [
    "Merge data: pandas.merge combines all data into one table. merge has four joins (default is inner).\n",
    "1. inner connection (inner), take the intersection set\n",
    "2. outer join (outer), take the concatenation, and fill with NaN;\n",
    "3. Left join (left), the left DataFrame takes all, the right DataFrame takes some;\n",
    "4. right join(right), right DataFrame takes all, left DataFrame takes some;\n"
   ]
  },
  {
   "cell_type": "markdown",
   "id": "79d9b56c-c7f1-43ed-9988-ead38b0e5109",
   "metadata": {},
   "source": [
    "DataFrame.merge(right, how='inner', on=None, left_on=None, right_on=None, left_index=False, right_index=False, sort=False, suffixes=('_x', '_y'), copy=None, indicator=False, validate=None)"
   ]
  },
  {
   "cell_type": "markdown",
   "id": "1b286969-1ebe-49e0-866d-604e029d657a",
   "metadata": {},
   "source": [
    "Merge movies_df and ratings_df into movies_rating_df dataset (two datasets merged)."
   ]
  },
  {
   "cell_type": "code",
   "execution_count": 14,
   "id": "123677e5-0973-4689-ba3e-a234119e56a1",
   "metadata": {},
   "outputs": [
    {
     "data": {
      "text/html": [
       "<div>\n",
       "<style scoped>\n",
       "    .dataframe tbody tr th:only-of-type {\n",
       "        vertical-align: middle;\n",
       "    }\n",
       "\n",
       "    .dataframe tbody tr th {\n",
       "        vertical-align: top;\n",
       "    }\n",
       "\n",
       "    .dataframe thead th {\n",
       "        text-align: right;\n",
       "    }\n",
       "</style>\n",
       "<table border=\"1\" class=\"dataframe\">\n",
       "  <thead>\n",
       "    <tr style=\"text-align: right;\">\n",
       "      <th></th>\n",
       "      <th>user_id</th>\n",
       "      <th>movie_id</th>\n",
       "      <th>imdbId</th>\n",
       "      <th>time</th>\n",
       "      <th>title</th>\n",
       "      <th>genres</th>\n",
       "    </tr>\n",
       "  </thead>\n",
       "  <tbody>\n",
       "    <tr>\n",
       "      <th>0</th>\n",
       "      <td>1</td>\n",
       "      <td>1193</td>\n",
       "      <td>5</td>\n",
       "      <td>2000-12-31</td>\n",
       "      <td>One Flew Over the Cuckoo's Nest</td>\n",
       "      <td>Drama</td>\n",
       "    </tr>\n",
       "    <tr>\n",
       "      <th>1</th>\n",
       "      <td>1</td>\n",
       "      <td>661</td>\n",
       "      <td>3</td>\n",
       "      <td>2000-12-31</td>\n",
       "      <td>James and the Giant Peach</td>\n",
       "      <td>Animation|Children's|Musical</td>\n",
       "    </tr>\n",
       "    <tr>\n",
       "      <th>2</th>\n",
       "      <td>1</td>\n",
       "      <td>914</td>\n",
       "      <td>3</td>\n",
       "      <td>2000-12-31</td>\n",
       "      <td>My Fair Lady</td>\n",
       "      <td>Musical|Romance</td>\n",
       "    </tr>\n",
       "    <tr>\n",
       "      <th>3</th>\n",
       "      <td>1</td>\n",
       "      <td>3408</td>\n",
       "      <td>4</td>\n",
       "      <td>2000-12-31</td>\n",
       "      <td>Erin Brockovich</td>\n",
       "      <td>Drama</td>\n",
       "    </tr>\n",
       "    <tr>\n",
       "      <th>4</th>\n",
       "      <td>1</td>\n",
       "      <td>2355</td>\n",
       "      <td>5</td>\n",
       "      <td>2001-01-06</td>\n",
       "      <td>Bug's Life, A</td>\n",
       "      <td>Animation|Children's|Comedy</td>\n",
       "    </tr>\n",
       "  </tbody>\n",
       "</table>\n",
       "</div>"
      ],
      "text/plain": [
       "   user_id  movie_id  imdbId        time                             title  \\\n",
       "0        1      1193       5  2000-12-31  One Flew Over the Cuckoo's Nest    \n",
       "1        1       661       3  2000-12-31        James and the Giant Peach    \n",
       "2        1       914       3  2000-12-31                     My Fair Lady    \n",
       "3        1      3408       4  2000-12-31                  Erin Brockovich    \n",
       "4        1      2355       5  2001-01-06                    Bug's Life, A    \n",
       "\n",
       "                         genres  \n",
       "0                         Drama  \n",
       "1  Animation|Children's|Musical  \n",
       "2               Musical|Romance  \n",
       "3                         Drama  \n",
       "4   Animation|Children's|Comedy  "
      ]
     },
     "execution_count": 14,
     "metadata": {},
     "output_type": "execute_result"
    }
   ],
   "source": [
    "# Sub-data merging\n",
    "movies_ratings_df = pd.merge(ratings_df,movies_df,on='movie_id')\n",
    "movies_ratings_df.head()"
   ]
  },
  {
   "cell_type": "markdown",
   "id": "e3a45d27-e5bc-41d5-ae22-5ce2eb506ed7",
   "metadata": {},
   "source": [
    "Merge movies_df, ratings_df & user_df into movies_rating_user_df dataset (multiple datasets merged)."
   ]
  },
  {
   "cell_type": "code",
   "execution_count": 15,
   "id": "cf550754-6b9d-4177-b1ab-9ad34beec801",
   "metadata": {},
   "outputs": [
    {
     "data": {
      "text/html": [
       "<div>\n",
       "<style scoped>\n",
       "    .dataframe tbody tr th:only-of-type {\n",
       "        vertical-align: middle;\n",
       "    }\n",
       "\n",
       "    .dataframe tbody tr th {\n",
       "        vertical-align: top;\n",
       "    }\n",
       "\n",
       "    .dataframe thead th {\n",
       "        text-align: right;\n",
       "    }\n",
       "</style>\n",
       "<table border=\"1\" class=\"dataframe\">\n",
       "  <thead>\n",
       "    <tr style=\"text-align: right;\">\n",
       "      <th></th>\n",
       "      <th>user_id</th>\n",
       "      <th>movie_id</th>\n",
       "      <th>imdbId</th>\n",
       "      <th>time</th>\n",
       "      <th>title</th>\n",
       "      <th>genres</th>\n",
       "      <th>gender</th>\n",
       "      <th>age</th>\n",
       "      <th>occupation</th>\n",
       "      <th>zip</th>\n",
       "    </tr>\n",
       "  </thead>\n",
       "  <tbody>\n",
       "    <tr>\n",
       "      <th>0</th>\n",
       "      <td>1</td>\n",
       "      <td>1193</td>\n",
       "      <td>5</td>\n",
       "      <td>2000-12-31</td>\n",
       "      <td>One Flew Over the Cuckoo's Nest</td>\n",
       "      <td>Drama</td>\n",
       "      <td>F</td>\n",
       "      <td>1</td>\n",
       "      <td>10</td>\n",
       "      <td>48067</td>\n",
       "    </tr>\n",
       "    <tr>\n",
       "      <th>1</th>\n",
       "      <td>1</td>\n",
       "      <td>661</td>\n",
       "      <td>3</td>\n",
       "      <td>2000-12-31</td>\n",
       "      <td>James and the Giant Peach</td>\n",
       "      <td>Animation|Children's|Musical</td>\n",
       "      <td>F</td>\n",
       "      <td>1</td>\n",
       "      <td>10</td>\n",
       "      <td>48067</td>\n",
       "    </tr>\n",
       "    <tr>\n",
       "      <th>2</th>\n",
       "      <td>1</td>\n",
       "      <td>914</td>\n",
       "      <td>3</td>\n",
       "      <td>2000-12-31</td>\n",
       "      <td>My Fair Lady</td>\n",
       "      <td>Musical|Romance</td>\n",
       "      <td>F</td>\n",
       "      <td>1</td>\n",
       "      <td>10</td>\n",
       "      <td>48067</td>\n",
       "    </tr>\n",
       "    <tr>\n",
       "      <th>3</th>\n",
       "      <td>1</td>\n",
       "      <td>3408</td>\n",
       "      <td>4</td>\n",
       "      <td>2000-12-31</td>\n",
       "      <td>Erin Brockovich</td>\n",
       "      <td>Drama</td>\n",
       "      <td>F</td>\n",
       "      <td>1</td>\n",
       "      <td>10</td>\n",
       "      <td>48067</td>\n",
       "    </tr>\n",
       "    <tr>\n",
       "      <th>4</th>\n",
       "      <td>1</td>\n",
       "      <td>2355</td>\n",
       "      <td>5</td>\n",
       "      <td>2001-01-06</td>\n",
       "      <td>Bug's Life, A</td>\n",
       "      <td>Animation|Children's|Comedy</td>\n",
       "      <td>F</td>\n",
       "      <td>1</td>\n",
       "      <td>10</td>\n",
       "      <td>48067</td>\n",
       "    </tr>\n",
       "  </tbody>\n",
       "</table>\n",
       "</div>"
      ],
      "text/plain": [
       "   user_id  movie_id  imdbId        time                             title  \\\n",
       "0        1      1193       5  2000-12-31  One Flew Over the Cuckoo's Nest    \n",
       "1        1       661       3  2000-12-31        James and the Giant Peach    \n",
       "2        1       914       3  2000-12-31                     My Fair Lady    \n",
       "3        1      3408       4  2000-12-31                  Erin Brockovich    \n",
       "4        1      2355       5  2001-01-06                    Bug's Life, A    \n",
       "\n",
       "                         genres gender  age  occupation    zip  \n",
       "0                         Drama      F    1          10  48067  \n",
       "1  Animation|Children's|Musical      F    1          10  48067  \n",
       "2               Musical|Romance      F    1          10  48067  \n",
       "3                         Drama      F    1          10  48067  \n",
       "4   Animation|Children's|Comedy      F    1          10  48067  "
      ]
     },
     "execution_count": 15,
     "metadata": {},
     "output_type": "execute_result"
    }
   ],
   "source": [
    "movies_ratings_user_df = pd.merge(pd.merge(ratings_df,movies_df),user_df)\n",
    "movies_ratings_user_df.head()"
   ]
  },
  {
   "cell_type": "markdown",
   "id": "600400ca-9cc2-4237-a55b-a4e08654ca7a",
   "metadata": {},
   "source": [
    "### Data  Analysis"
   ]
  },
  {
   "cell_type": "markdown",
   "id": "e49f406f-0161-4cdf-9d99-47473f25c80a",
   "metadata": {},
   "source": [
    "Statistical variables: Pandas provides describe function for statistical variables to see the statistics of variables in user_df."
   ]
  },
  {
   "cell_type": "code",
   "execution_count": 16,
   "id": "d1633af2-f390-4d09-92d6-a58fe1db036f",
   "metadata": {},
   "outputs": [
    {
     "data": {
      "text/html": [
       "<div>\n",
       "<style scoped>\n",
       "    .dataframe tbody tr th:only-of-type {\n",
       "        vertical-align: middle;\n",
       "    }\n",
       "\n",
       "    .dataframe tbody tr th {\n",
       "        vertical-align: top;\n",
       "    }\n",
       "\n",
       "    .dataframe thead th {\n",
       "        text-align: right;\n",
       "    }\n",
       "</style>\n",
       "<table border=\"1\" class=\"dataframe\">\n",
       "  <thead>\n",
       "    <tr style=\"text-align: right;\">\n",
       "      <th></th>\n",
       "      <th>user_id</th>\n",
       "      <th>age</th>\n",
       "      <th>occupation</th>\n",
       "    </tr>\n",
       "  </thead>\n",
       "  <tbody>\n",
       "    <tr>\n",
       "      <th>count</th>\n",
       "      <td>6040.000000</td>\n",
       "      <td>6040.000000</td>\n",
       "      <td>6040.000000</td>\n",
       "    </tr>\n",
       "    <tr>\n",
       "      <th>mean</th>\n",
       "      <td>3020.500000</td>\n",
       "      <td>30.639238</td>\n",
       "      <td>8.146854</td>\n",
       "    </tr>\n",
       "    <tr>\n",
       "      <th>std</th>\n",
       "      <td>1743.742145</td>\n",
       "      <td>12.895962</td>\n",
       "      <td>6.329511</td>\n",
       "    </tr>\n",
       "    <tr>\n",
       "      <th>min</th>\n",
       "      <td>1.000000</td>\n",
       "      <td>1.000000</td>\n",
       "      <td>0.000000</td>\n",
       "    </tr>\n",
       "    <tr>\n",
       "      <th>25%</th>\n",
       "      <td>1510.750000</td>\n",
       "      <td>25.000000</td>\n",
       "      <td>3.000000</td>\n",
       "    </tr>\n",
       "    <tr>\n",
       "      <th>50%</th>\n",
       "      <td>3020.500000</td>\n",
       "      <td>25.000000</td>\n",
       "      <td>7.000000</td>\n",
       "    </tr>\n",
       "    <tr>\n",
       "      <th>75%</th>\n",
       "      <td>4530.250000</td>\n",
       "      <td>35.000000</td>\n",
       "      <td>14.000000</td>\n",
       "    </tr>\n",
       "    <tr>\n",
       "      <th>max</th>\n",
       "      <td>6040.000000</td>\n",
       "      <td>56.000000</td>\n",
       "      <td>20.000000</td>\n",
       "    </tr>\n",
       "  </tbody>\n",
       "</table>\n",
       "</div>"
      ],
      "text/plain": [
       "           user_id          age   occupation\n",
       "count  6040.000000  6040.000000  6040.000000\n",
       "mean   3020.500000    30.639238     8.146854\n",
       "std    1743.742145    12.895962     6.329511\n",
       "min       1.000000     1.000000     0.000000\n",
       "25%    1510.750000    25.000000     3.000000\n",
       "50%    3020.500000    25.000000     7.000000\n",
       "75%    4530.250000    35.000000    14.000000\n",
       "max    6040.000000    56.000000    20.000000"
      ]
     },
     "execution_count": 16,
     "metadata": {},
     "output_type": "execute_result"
    }
   ],
   "source": [
    "user_df.describe()"
   ]
  },
  {
   "cell_type": "markdown",
   "id": "22dcb61c-0343-406c-aa8d-ff78c1b21e8f",
   "metadata": {},
   "source": [
    "Grouping statistics: Pandas use groupby function for grouping statistics, groupby grouping is actually the original DataFrame in accordance with the groupby field for division, groupby can be added after the count (count), sum (sum), for the mean (mean) and other operations."
   ]
  },
  {
   "cell_type": "markdown",
   "id": "3e4885c9-5787-44d4-9d62-3f1a09b4aad3",
   "metadata": {},
   "source": [
    "DataFrame.groupby(by=None, axis=0, level=None, as_index=True, sort=True, group_keys=True, observed=False, dropna=True)"
   ]
  },
  {
   "cell_type": "markdown",
   "id": "e5264d77-8759-48e3-8f10-15a6f6ad99ed",
   "metadata": {},
   "source": [
    "Statistics of the 5 most rated movies: first group the movies according to their titles, then use the size function to calculate the number of samples in each group, and finally output the top 5 observations in descending order."
   ]
  },
  {
   "cell_type": "code",
   "execution_count": 17,
   "id": "f7a4a0ef-1d9b-4b8c-a5ba-e087a6c6f409",
   "metadata": {},
   "outputs": [
    {
     "data": {
      "text/plain": [
       "title\n",
       "American Beauty                                    3428\n",
       "Star Wars: Episode IV - A New Hope                 2991\n",
       "Star Wars: Episode V - The Empire Strikes Back     2990\n",
       "Star Wars: Episode VI - Return of the Jedi         2883\n",
       "Jurassic Park                                      2672\n",
       "dtype: int64"
      ]
     },
     "execution_count": 17,
     "metadata": {},
     "output_type": "execute_result"
    }
   ],
   "source": [
    "top_5_ratings_movies_df = movies_ratings_df.groupby('title').size().sort_values(ascending=False)[:5]\n",
    "top_5_ratings_movies_df"
   ]
  },
  {
   "cell_type": "markdown",
   "id": "2b3137ed-dd19-4757-a5e0-88f9cbc5e17c",
   "metadata": {},
   "source": [
    "Statistics on the mean value of movie ratings (grouped by user)"
   ]
  },
  {
   "cell_type": "markdown",
   "id": "4f63599e-d787-443c-8258-4d2f62fe271e",
   "metadata": {},
   "source": [
    "Statistics on the mean value of movie ratings (grouped by user)"
   ]
  },
  {
   "cell_type": "code",
   "execution_count": 18,
   "id": "67f239c6-043f-4ce9-a489-34e6e7726df8",
   "metadata": {},
   "outputs": [
    {
     "data": {
      "text/html": [
       "<div>\n",
       "<style scoped>\n",
       "    .dataframe tbody tr th:only-of-type {\n",
       "        vertical-align: middle;\n",
       "    }\n",
       "\n",
       "    .dataframe tbody tr th {\n",
       "        vertical-align: top;\n",
       "    }\n",
       "\n",
       "    .dataframe thead th {\n",
       "        text-align: right;\n",
       "    }\n",
       "</style>\n",
       "<table border=\"1\" class=\"dataframe\">\n",
       "  <thead>\n",
       "    <tr style=\"text-align: right;\">\n",
       "      <th></th>\n",
       "      <th>user_id</th>\n",
       "      <th>imdbId</th>\n",
       "    </tr>\n",
       "  </thead>\n",
       "  <tbody>\n",
       "    <tr>\n",
       "      <th>0</th>\n",
       "      <td>1</td>\n",
       "      <td>4.188679</td>\n",
       "    </tr>\n",
       "    <tr>\n",
       "      <th>1</th>\n",
       "      <td>2</td>\n",
       "      <td>3.713178</td>\n",
       "    </tr>\n",
       "    <tr>\n",
       "      <th>2</th>\n",
       "      <td>3</td>\n",
       "      <td>3.901961</td>\n",
       "    </tr>\n",
       "    <tr>\n",
       "      <th>3</th>\n",
       "      <td>4</td>\n",
       "      <td>4.190476</td>\n",
       "    </tr>\n",
       "    <tr>\n",
       "      <th>4</th>\n",
       "      <td>5</td>\n",
       "      <td>3.146465</td>\n",
       "    </tr>\n",
       "  </tbody>\n",
       "</table>\n",
       "</div>"
      ],
      "text/plain": [
       "   user_id    imdbId\n",
       "0        1  4.188679\n",
       "1        2  3.713178\n",
       "2        3  3.901961\n",
       "3        4  4.190476\n",
       "4        5  3.146465"
      ]
     },
     "execution_count": 18,
     "metadata": {},
     "output_type": "execute_result"
    }
   ],
   "source": [
    "# Mean value of ratings of movies seen by user ids\n",
    "movie_ratings_by_user_mean_df= movies_ratings_df.groupby('user_id',as_index=False)['imdbId'].mean()\n",
    "movie_ratings_by_user_mean_df.head()"
   ]
  },
  {
   "cell_type": "code",
   "execution_count": 19,
   "id": "b4e81d8c-f566-4564-9c63-b83e3c408e68",
   "metadata": {},
   "outputs": [
    {
     "name": "stdout",
     "output_type": "stream",
     "text": [
      "<class 'pandas.core.frame.DataFrame'>\n",
      "RangeIndex: 6040 entries, 0 to 6039\n",
      "Data columns (total 2 columns):\n",
      " #   Column   Non-Null Count  Dtype  \n",
      "---  ------   --------------  -----  \n",
      " 0   user_id  6040 non-null   int64  \n",
      " 1   imdbId   6040 non-null   float64\n",
      "dtypes: float64(1), int64(1)\n",
      "memory usage: 94.5 KB\n"
     ]
    }
   ],
   "source": [
    "movie_ratings_by_user_mean_df.info()"
   ]
  },
  {
   "cell_type": "markdown",
   "id": "1dbe6d6f-f240-45fc-be3c-afa320437565",
   "metadata": {},
   "source": [
    "Counting the mean of each movie rating (grouped by movie)"
   ]
  },
  {
   "cell_type": "code",
   "execution_count": 20,
   "id": "4d8e1095-cff3-486c-ae7d-50bc0a3a75f0",
   "metadata": {},
   "outputs": [
    {
     "data": {
      "text/html": [
       "<div>\n",
       "<style scoped>\n",
       "    .dataframe tbody tr th:only-of-type {\n",
       "        vertical-align: middle;\n",
       "    }\n",
       "\n",
       "    .dataframe tbody tr th {\n",
       "        vertical-align: top;\n",
       "    }\n",
       "\n",
       "    .dataframe thead th {\n",
       "        text-align: right;\n",
       "    }\n",
       "</style>\n",
       "<table border=\"1\" class=\"dataframe\">\n",
       "  <thead>\n",
       "    <tr style=\"text-align: right;\">\n",
       "      <th></th>\n",
       "      <th>movie_id</th>\n",
       "      <th>imdbId</th>\n",
       "    </tr>\n",
       "  </thead>\n",
       "  <tbody>\n",
       "    <tr>\n",
       "      <th>0</th>\n",
       "      <td>1</td>\n",
       "      <td>4.146846</td>\n",
       "    </tr>\n",
       "    <tr>\n",
       "      <th>1</th>\n",
       "      <td>2</td>\n",
       "      <td>3.201141</td>\n",
       "    </tr>\n",
       "    <tr>\n",
       "      <th>2</th>\n",
       "      <td>3</td>\n",
       "      <td>3.016736</td>\n",
       "    </tr>\n",
       "    <tr>\n",
       "      <th>3</th>\n",
       "      <td>4</td>\n",
       "      <td>2.729412</td>\n",
       "    </tr>\n",
       "    <tr>\n",
       "      <th>4</th>\n",
       "      <td>5</td>\n",
       "      <td>3.006757</td>\n",
       "    </tr>\n",
       "  </tbody>\n",
       "</table>\n",
       "</div>"
      ],
      "text/plain": [
       "   movie_id    imdbId\n",
       "0         1  4.146846\n",
       "1         2  3.201141\n",
       "2         3  3.016736\n",
       "3         4  2.729412\n",
       "4         5  3.006757"
      ]
     },
     "execution_count": 20,
     "metadata": {},
     "output_type": "execute_result"
    }
   ],
   "source": [
    "# Mean value of each movie's rating by movie id\n",
    "every_movie_ratings_mean_df= movies_ratings_df.groupby('movie_id',as_index=False)['imdbId'].mean()\n",
    "every_movie_ratings_mean_df.head()\n"
   ]
  },
  {
   "cell_type": "code",
   "execution_count": 21,
   "id": "41a0cc38-7d7d-4c17-937f-7ddd09a1dd79",
   "metadata": {},
   "outputs": [
    {
     "name": "stdout",
     "output_type": "stream",
     "text": [
      "<class 'pandas.core.frame.DataFrame'>\n",
      "RangeIndex: 3706 entries, 0 to 3705\n",
      "Data columns (total 2 columns):\n",
      " #   Column    Non-Null Count  Dtype  \n",
      "---  ------    --------------  -----  \n",
      " 0   movie_id  3706 non-null   int64  \n",
      " 1   imdbId    3706 non-null   float64\n",
      "dtypes: float64(1), int64(1)\n",
      "memory usage: 58.0 KB\n"
     ]
    }
   ],
   "source": [
    "every_movie_ratings_mean_df.info()"
   ]
  },
  {
   "cell_type": "markdown",
   "id": "f68b6070-503d-4cfe-b391-0251a89f7743",
   "metadata": {},
   "source": [
    "Grouping and aggregation statistics: Pandas provides aggregate function to realize the aggregation operation, which can be abbreviated as agg, and can be used together with groupby, the role is to group the object to make the given calculation method to re-take the value, support in accordance with the fields are given different statistical methods.\n",
    "Group by movie_id and title, and calculate the average rating, take the first 5 data."
   ]
  },
  {
   "cell_type": "code",
   "execution_count": 22,
   "id": "76d10335-f5fc-4ff5-8c5a-96d8e09b8fe4",
   "metadata": {},
   "outputs": [
    {
     "name": "stderr",
     "output_type": "stream",
     "text": [
      "/var/folders/17/7chlm8ns3kx6fz2y58z03rlh0000gn/T/ipykernel_32719/1034106442.py:3: FutureWarning: The provided callable <function mean at 0x110730900> is currently using SeriesGroupBy.mean. In a future version of pandas, the provided callable will be used directly. To keep current behavior pass the string \"mean\" instead.\n",
      "  movies_ratings_by_movie_title_df = movies_ratings_df.groupby(['movie_id','title'],as_index=False)['imdbId'].aggregate(np.mean)\n"
     ]
    },
    {
     "data": {
      "text/html": [
       "<div>\n",
       "<style scoped>\n",
       "    .dataframe tbody tr th:only-of-type {\n",
       "        vertical-align: middle;\n",
       "    }\n",
       "\n",
       "    .dataframe tbody tr th {\n",
       "        vertical-align: top;\n",
       "    }\n",
       "\n",
       "    .dataframe thead th {\n",
       "        text-align: right;\n",
       "    }\n",
       "</style>\n",
       "<table border=\"1\" class=\"dataframe\">\n",
       "  <thead>\n",
       "    <tr style=\"text-align: right;\">\n",
       "      <th></th>\n",
       "      <th>movie_id</th>\n",
       "      <th>title</th>\n",
       "      <th>imdbId</th>\n",
       "    </tr>\n",
       "  </thead>\n",
       "  <tbody>\n",
       "    <tr>\n",
       "      <th>0</th>\n",
       "      <td>1</td>\n",
       "      <td>Toy Story</td>\n",
       "      <td>4.146846</td>\n",
       "    </tr>\n",
       "    <tr>\n",
       "      <th>1</th>\n",
       "      <td>2</td>\n",
       "      <td>Jumanji</td>\n",
       "      <td>3.201141</td>\n",
       "    </tr>\n",
       "    <tr>\n",
       "      <th>2</th>\n",
       "      <td>3</td>\n",
       "      <td>Grumpier Old Men</td>\n",
       "      <td>3.016736</td>\n",
       "    </tr>\n",
       "    <tr>\n",
       "      <th>3</th>\n",
       "      <td>4</td>\n",
       "      <td>Waiting to Exhale</td>\n",
       "      <td>2.729412</td>\n",
       "    </tr>\n",
       "    <tr>\n",
       "      <th>4</th>\n",
       "      <td>5</td>\n",
       "      <td>Father of the Bride Part II</td>\n",
       "      <td>3.006757</td>\n",
       "    </tr>\n",
       "  </tbody>\n",
       "</table>\n",
       "</div>"
      ],
      "text/plain": [
       "   movie_id                         title    imdbId\n",
       "0         1                    Toy Story   4.146846\n",
       "1         2                      Jumanji   3.201141\n",
       "2         3             Grumpier Old Men   3.016736\n",
       "3         4            Waiting to Exhale   2.729412\n",
       "4         5  Father of the Bride Part II   3.006757"
      ]
     },
     "execution_count": 22,
     "metadata": {},
     "output_type": "execute_result"
    }
   ],
   "source": [
    "# Group by movie_id and title and calculate the mean of the ratings for the top 5 data. \n",
    "import numpy as np\n",
    "movies_ratings_by_movie_title_df = movies_ratings_df.groupby(['movie_id','title'],as_index=False)['imdbId'].aggregate(np.mean)\n",
    "movies_ratings_by_movie_title_df.head()\n"
   ]
  },
  {
   "cell_type": "markdown",
   "id": "996eda14-3898-48b9-a9b9-a6572ac800b1",
   "metadata": {},
   "source": [
    "Statistics of the average value of each movie rating (according to gender): pivot table pivot_table is an operation method similar to groupby, commonly used in EXCEL, pivot table according to the columns of the input data, the output, constantly subdividing the data to form a number of dimensions of the cumulative information of the two-dimensional data table."
   ]
  },
  {
   "cell_type": "markdown",
   "id": "6c1e3d9e-bec5-4b18-9c63-b758f2e5713a",
   "metadata": {},
   "source": [
    "DataFrame.pivot_table(values=None, index=None, columns=None, aggfunc='mean', fill_value=None, margins=False, dropna=True, margins_name='All', observed=False, sort=True)\n",
    "- values ： Filter the target data, the default is all the data, you can use the values parameter to set the data columns we want to display.\n",
    "- index : Row index, required parameters\n",
    "- columns :Column index of the pivot table, not a required parameter, used in the same way as index.\n",
    "- aggfunc :Functional operations performed when aggregating data, the default is the average, but also sum, count, etc.\n",
    "- fill_value :Fill for null values\n",
    "- margins :Extra columns, summation of rows and columns by default\n",
    "- dropna : De-duplication is enabled by default \n"
   ]
  },
  {
   "cell_type": "code",
   "execution_count": 23,
   "id": "d6d588ac-f39b-42bb-9818-320ae0eaa107",
   "metadata": {},
   "outputs": [
    {
     "data": {
      "text/html": [
       "<div>\n",
       "<style scoped>\n",
       "    .dataframe tbody tr th:only-of-type {\n",
       "        vertical-align: middle;\n",
       "    }\n",
       "\n",
       "    .dataframe tbody tr th {\n",
       "        vertical-align: top;\n",
       "    }\n",
       "\n",
       "    .dataframe thead th {\n",
       "        text-align: right;\n",
       "    }\n",
       "</style>\n",
       "<table border=\"1\" class=\"dataframe\">\n",
       "  <thead>\n",
       "    <tr style=\"text-align: right;\">\n",
       "      <th>gender</th>\n",
       "      <th>F</th>\n",
       "      <th>M</th>\n",
       "    </tr>\n",
       "    <tr>\n",
       "      <th>title</th>\n",
       "      <th></th>\n",
       "      <th></th>\n",
       "    </tr>\n",
       "  </thead>\n",
       "  <tbody>\n",
       "    <tr>\n",
       "      <th>$1,000,000 Duck</th>\n",
       "      <td>3.375000</td>\n",
       "      <td>2.761905</td>\n",
       "    </tr>\n",
       "    <tr>\n",
       "      <th>'Night Mother</th>\n",
       "      <td>3.388889</td>\n",
       "      <td>3.352941</td>\n",
       "    </tr>\n",
       "    <tr>\n",
       "      <th>'Til There Was You</th>\n",
       "      <td>2.675676</td>\n",
       "      <td>2.733333</td>\n",
       "    </tr>\n",
       "    <tr>\n",
       "      <th>'burbs, The</th>\n",
       "      <td>2.793478</td>\n",
       "      <td>2.962085</td>\n",
       "    </tr>\n",
       "    <tr>\n",
       "      <th>...And Justice for All</th>\n",
       "      <td>3.828571</td>\n",
       "      <td>3.689024</td>\n",
       "    </tr>\n",
       "  </tbody>\n",
       "</table>\n",
       "</div>"
      ],
      "text/plain": [
       "gender                          F         M\n",
       "title                                      \n",
       "$1,000,000 Duck          3.375000  2.761905\n",
       "'Night Mother            3.388889  3.352941\n",
       "'Til There Was You       2.675676  2.733333\n",
       "'burbs, The              2.793478  2.962085\n",
       "...And Justice for All   3.828571  3.689024"
      ]
     },
     "execution_count": 23,
     "metadata": {},
     "output_type": "execute_result"
    }
   ],
   "source": [
    "# Getting the mean value of ratings for the same movie based on gender\n",
    "mean_rating = movies_ratings_user_df.pivot_table('imdbId',index='title',columns='gender',aggfunc='mean')\n",
    "mean_rating.head()\n"
   ]
  },
  {
   "cell_type": "code",
   "execution_count": 24,
   "id": "03aeb3da-14cb-4a95-bd6b-02fced13f9a5",
   "metadata": {},
   "outputs": [
    {
     "name": "stdout",
     "output_type": "stream",
     "text": [
      "<class 'pandas.core.frame.DataFrame'>\n",
      "Index: 3664 entries, $1,000,000 Duck  to eXistenZ \n",
      "Data columns (total 2 columns):\n",
      " #   Column  Non-Null Count  Dtype  \n",
      "---  ------  --------------  -----  \n",
      " 0   F       3439 non-null   float64\n",
      " 1   M       3629 non-null   float64\n",
      "dtypes: float64(2)\n",
      "memory usage: 85.9+ KB\n"
     ]
    }
   ],
   "source": [
    "mean_rating.info()"
   ]
  },
  {
   "cell_type": "code",
   "execution_count": 25,
   "id": "6ee4f88d-86fb-48ab-ade1-0332f32e922b",
   "metadata": {},
   "outputs": [
    {
     "name": "stdout",
     "output_type": "stream",
     "text": [
      "gender\n",
      "F    3.620366\n",
      "M    3.568879\n",
      "Name: imdbId, dtype: float64\n"
     ]
    },
    {
     "name": "stderr",
     "output_type": "stream",
     "text": [
      "/var/folders/17/7chlm8ns3kx6fz2y58z03rlh0000gn/T/ipykernel_32719/3448229895.py:8: UserWarning: \n",
      "\n",
      "`distplot` is a deprecated function and will be removed in seaborn v0.14.0.\n",
      "\n",
      "Please adapt your code to use either `displot` (a figure-level function with\n",
      "similar flexibility) or `kdeplot` (an axes-level function for kernel density plots).\n",
      "\n",
      "For a guide to updating your code to use the new functions, please see\n",
      "https://gist.github.com/mwaskom/de44147ed2974457ad6372750bbe5751\n",
      "\n",
      "  sns.distplot(movies_ratings_user_df[movies_ratings_user_df['gender'] == 'M']['imdbId'], hist=False, label='Male', color='blue')\n",
      "/var/folders/17/7chlm8ns3kx6fz2y58z03rlh0000gn/T/ipykernel_32719/3448229895.py:9: UserWarning: \n",
      "\n",
      "`distplot` is a deprecated function and will be removed in seaborn v0.14.0.\n",
      "\n",
      "Please adapt your code to use either `displot` (a figure-level function with\n",
      "similar flexibility) or `kdeplot` (an axes-level function for kernel density plots).\n",
      "\n",
      "For a guide to updating your code to use the new functions, please see\n",
      "https://gist.github.com/mwaskom/de44147ed2974457ad6372750bbe5751\n",
      "\n",
      "  sns.distplot(movies_ratings_user_df[movies_ratings_user_df['gender'] == 'F']['imdbId'], hist=False, label='Female', color='red')\n"
     ]
    },
    {
     "data": {
      "image/png": "[encoded data removed]",
      "text/plain": [
       "<Figure size 640x480 with 1 Axes>"
      ]
     },
     "metadata": {},
     "output_type": "display_data"
    }
   ],
   "source": [
    "import seaborn as sns\n",
    "import matplotlib.pyplot as plt\n",
    "# Calculate the average rating for different genders\n",
    "average_rating_by_gender = movies_ratings_user_df.groupby('gender')['imdbId'].mean()\n",
    "print(average_rating_by_gender)\n",
    " \n",
    "# Draw a gender score histogram\n",
    "sns.distplot(movies_ratings_user_df[movies_ratings_user_df['gender'] == 'M']['imdbId'], hist=False, label='Male', color='blue')\n",
    "sns.distplot(movies_ratings_user_df[movies_ratings_user_df['gender'] == 'F']['imdbId'], hist=False, label='Female', color='red')\n",
    "plt.title('Rating Distribution by Gender')\n",
    "plt.xlabel('Rating')\n",
    "plt.ylabel('Probability Density')\n",
    "plt.legend()\n",
    "plt.show()\n"
   ]
  },
  {
   "cell_type": "code",
   "execution_count": 26,
   "id": "a8fe9146-c2af-4504-960e-6162655ace44",
   "metadata": {},
   "outputs": [
    {
     "data": {
      "image/png": "[encoded data removed]",
      "text/plain": [
       "<Figure size 640x480 with 1 Axes>"
      ]
     },
     "metadata": {},
     "output_type": "display_data"
    }
   ],
   "source": [
    "import matplotlib.pyplot as plt\n",
    "\n",
    "male = movies_ratings_user_df[movies_ratings_user_df['gender'] == 'M']\n",
    "female = movies_ratings_user_df[movies_ratings_user_df['gender'] == 'F']\n",
    "\n",
    "\n",
    "male_scores = [1,2,3,4,5]\n",
    "male_people = []\n",
    "for score in male_scores:\n",
    "    count = len(male[male['imdbId'] == score])\n",
    "    count2 = len(movies_ratings_user_df[movies_ratings_user_df['imdbId'] == score])\n",
    "    ratio = count/count2\n",
    "    male_people.append(ratio)\n",
    "\n",
    "female_scores = [1,2,3,4,5]\n",
    "count3 = len(female)\n",
    "female_people = []\n",
    "for score in female_scores:\n",
    "    count = len(female[female['imdbId'] == score])\n",
    "    count2 = len(movies_ratings_user_df[movies_ratings_user_df['imdbId'] == score])\n",
    "    ratio = count/count2\n",
    "    female_people.append(ratio)\n",
    "\n",
    "# Setting the range of the X-axis\n",
    "plt.xlim(0, 6)\n",
    " \n",
    "# Setting the X-axis scale\n",
    "plt.xticks(np.linspace(0, 6, 7))\n",
    " \n",
    "# Plotting line graphs\n",
    "plt.plot(male_scores, male_people, label='Male')\n",
    "plt.plot(female_scores, female_people, label='Female')\n",
    "# Add title and axis labels\n",
    "plt.title('Distribution of male and female users in different ratings.')\n",
    "plt.xlabel('Score')\n",
    "plt.ylabel('Gender ratio')\n",
    "\n",
    "# Show legend\n",
    "plt.legend()\n",
    "\n",
    "# Display Graphics\n",
    "plt.show()"
   ]
  },
  {
   "cell_type": "code",
   "execution_count": 27,
   "id": "b2c03d5b",
   "metadata": {},
   "outputs": [
    {
     "data": {
      "image/png": "[encoded data removed]",
      "text/plain": [
       "<Figure size 640x480 with 1 Axes>"
      ]
     },
     "metadata": {},
     "output_type": "display_data"
    }
   ],
   "source": [
    "import matplotlib.pyplot as plt\n",
    "\n",
    "male = movies_ratings_user_df[movies_ratings_user_df['gender'] == 'M']\n",
    "female = movies_ratings_user_df[movies_ratings_user_df['gender'] == 'F']\n",
    "\n",
    "\n",
    "male_scores = [1,2,3,4,5]\n",
    "male_people = []\n",
    "count2 = len(male)\n",
    "for score in male_scores:\n",
    "    count = len(male[male['imdbId'] == score])\n",
    "#     count2 = len(movies_ratings_user_df[movies_ratings_user_df['imdbId'] == score])\n",
    "    ratio = count/count2\n",
    "    male_people.append(ratio)\n",
    "\n",
    "female_scores = [1,2,3,4,5]\n",
    "count3 = len(female)\n",
    "female_people = []\n",
    "for score in female_scores:\n",
    "    count = len(female[female['imdbId'] == score])\n",
    "#     count2 = len(movies_ratings_user_df[movies_ratings_user_df['imdbId'] == score])\n",
    "    ratio = count/count3\n",
    "    female_people.append(ratio)\n",
    "    \n",
    "    \n",
    "# Setting the range of the X-axis\n",
    "plt.xlim(0, 6)\n",
    " \n",
    "# Setting the X-axis scale\n",
    "plt.xticks(np.linspace(0, 6, 7))\n",
    "\n",
    "# Plotting line graphs\n",
    "plt.plot(male_scores, male_people, label='Male')\n",
    "plt.plot(female_scores, female_people, label='Female')\n",
    "# Add title and axis labels\n",
    "plt.title('Distribution of male and female users in different ratings.')\n",
    "plt.xlabel('Score')\n",
    "plt.ylabel('Rating ratio')\n",
    "\n",
    "# Show legend\n",
    "plt.legend()\n",
    "\n",
    "# Display Graphics\n",
    "plt.show()"
   ]
  },
  {
   "cell_type": "code",
   "execution_count": 28,
   "id": "21c69e71",
   "metadata": {},
   "outputs": [
    {
     "data": {
      "text/plain": [
       "246440"
      ]
     },
     "execution_count": 28,
     "metadata": {},
     "output_type": "execute_result"
    }
   ],
   "source": [
    "len(female)"
   ]
  },
  {
   "cell_type": "code",
   "execution_count": 29,
   "id": "71c0269c",
   "metadata": {},
   "outputs": [
    {
     "data": {
      "text/plain": [
       "753769"
      ]
     },
     "execution_count": 29,
     "metadata": {},
     "output_type": "execute_result"
    }
   ],
   "source": [
    "len(male)"
   ]
  },
  {
   "cell_type": "code",
   "execution_count": 30,
   "id": "8f8cf1cd",
   "metadata": {},
   "outputs": [
    {
     "name": "stdout",
     "output_type": "stream",
     "text": [
      "3.6203660120110372\n"
     ]
    }
   ],
   "source": [
    "female_scores = [1,2,3,4,5]\n",
    "\n",
    "female_people = 0\n",
    "for score in female_scores:\n",
    "    count = len(female[female['imdbId'] == score])\n",
    "#     count2 = len(movies_ratings_user_df[movies_ratings_user_df['imdbId'] == score])\n",
    "    female_people = female_people + count*score\n",
    "    \n",
    "print(female_people/246440)"
   ]
  },
  {
   "cell_type": "code",
   "execution_count": 31,
   "id": "1f676d08",
   "metadata": {},
   "outputs": [
    {
     "name": "stdout",
     "output_type": "stream",
     "text": [
      "3.5688785290984373\n"
     ]
    }
   ],
   "source": [
    "male_scores = [1,2,3,4,5]\n",
    "\n",
    "male_people = 0\n",
    "for score in male_scores:\n",
    "    count = len(male[male['imdbId'] == score])\n",
    "#     count2 = len(movies_ratings_user_df[movies_ratings_user_df['imdbId'] == score])\n",
    "    male_people = male_people + count*score\n",
    "    \n",
    "print(male_people/753769)"
   ]
  },
  {
   "cell_type": "markdown",
   "id": "8f8f3128-58fa-4caf-9422-2b9d08e8b217",
   "metadata": {},
   "source": [
    "#### Dataset segmentation:\n",
    "\n",
    "The movies_ratings_user_df dataset is divided into training and validation sets in the ratio of 8:2."
   ]
  },
  {
   "cell_type": "code",
   "execution_count": 38,
   "id": "48a23923-49b5-4ad6-a569-078945cc737d",
   "metadata": {},
   "outputs": [
    {
     "name": "stdout",
     "output_type": "stream",
     "text": [
      "The size of the original dataset:\n"
     ]
    },
    {
     "data": {
      "text/plain": [
       "1000209"
      ]
     },
     "execution_count": 38,
     "metadata": {},
     "output_type": "execute_result"
    }
   ],
   "source": [
    "print(\"The size of the original dataset:\")\n",
    "len(movies_ratings_user_df)"
   ]
  },
  {
   "cell_type": "code",
   "execution_count": 35,
   "id": "d0e8921f-c38a-4a50-b598-0dcb7adb311a",
   "metadata": {},
   "outputs": [],
   "source": [
    "from sklearn.model_selection import train_test_split\n",
    "data_train,data_test = train_test_split(movies_ratings_user_df,test_size=0.3, random_state=0)"
   ]
  },
  {
   "cell_type": "code",
   "execution_count": 39,
   "id": "f948800b-8f17-4c46-bd84-2014b840894c",
   "metadata": {},
   "outputs": [
    {
     "name": "stdout",
     "output_type": "stream",
     "text": [
      "The size of the data_train dataset:\n"
     ]
    },
    {
     "data": {
      "text/plain": [
       "700146"
      ]
     },
     "execution_count": 39,
     "metadata": {},
     "output_type": "execute_result"
    }
   ],
   "source": [
    "print(\"The size of the data_train dataset:\")\n",
    "len(data_train)"
   ]
  },
  {
   "cell_type": "code",
   "execution_count": 40,
   "id": "43a480f9-b739-4d5d-a0a9-4d03c780641c",
   "metadata": {},
   "outputs": [
    {
     "name": "stdout",
     "output_type": "stream",
     "text": [
      "The size of the data_test dataset:\n"
     ]
    },
    {
     "data": {
      "text/plain": [
       "300063"
      ]
     },
     "execution_count": 40,
     "metadata": {},
     "output_type": "execute_result"
    }
   ],
   "source": [
    "print(\"The size of the data_test dataset:\")\n",
    "len(data_test)"
   ]
  },
  {
   "cell_type": "code",
   "execution_count": null,
   "id": "0c0b394b-7563-4187-94be-55a5d906c9d0",
   "metadata": {},
   "outputs": [],
   "source": []
  },
  {
   "cell_type": "code",
   "execution_count": null,
   "id": "1f3513e9-6d2d-43ce-9d7c-003dd96a7d69",
   "metadata": {},
   "outputs": [],
   "source": []
  },
  {
   "cell_type": "code",
   "execution_count": null,
   "id": "c1fe0ccb-0c87-4d25-b597-461e63d24e24",
   "metadata": {},
   "outputs": [],
   "source": []
  },
  {
   "cell_type": "code",
   "execution_count": null,
   "id": "50d6c8f5-c1c4-4d17-a880-4876f865149f",
   "metadata": {},
   "outputs": [],
   "source": []
  }
 ],
 "metadata": {
  "kernelspec": {
   "display_name": "Python 3 (ipykernel)",
   "language": "python",
   "name": "python3"
  },
  "language_info": {
   "codemirror_mode": {
    "name": "ipython",
    "version": 3
   },
   "file_extension": ".py",
   "mimetype": "text/x-python",
   "name": "python",
   "nbconvert_exporter": "python",
   "pygments_lexer": "ipython3",
   "version": "3.12.4"
  }
 },
 "nbformat": 4,
 "nbformat_minor": 5
}
